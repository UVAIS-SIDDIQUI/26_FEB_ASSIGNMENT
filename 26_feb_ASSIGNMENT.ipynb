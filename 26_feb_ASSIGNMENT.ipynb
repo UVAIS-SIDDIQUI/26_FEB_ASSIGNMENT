{
 "cells": [
  {
   "cell_type": "code",
   "execution_count": 11,
   "id": "fb7f0fcd-027e-4fc4-81c4-31a67c4e09e3",
   "metadata": {},
   "outputs": [],
   "source": [
    "import numpy as np\n",
    "list_ = [ '1' ,'2' , '3' , '4' , '5' ]\n",
    "array_list = np.array( object=list_)"
   ]
  },
  {
   "cell_type": "code",
   "execution_count": 12,
   "id": "8a7f1429-a70d-4a88-8509-e9a59c2fee30",
   "metadata": {},
   "outputs": [],
   "source": [
    "# Q1. Is there any difference in the data type of variables list_ and array_list? If there is then write a code\n",
    "# to print the data types of both the variables."
   ]
  },
  {
   "cell_type": "markdown",
   "id": "6bd4b0a4-41e7-4c8b-b239-e627a7726b46",
   "metadata": {},
   "source": [
    "ANS = Yes, there is a difference in the data types of the list_ and array_list variables. The list_ variable is a Python list containing strings, while array_list is a NumPy array."
   ]
  },
  {
   "cell_type": "code",
   "execution_count": 14,
   "id": "001e29e0-8e51-4a7f-93fe-624d346e0429",
   "metadata": {},
   "outputs": [
    {
     "name": "stdout",
     "output_type": "stream",
     "text": [
      "Data type of 'list_': <class 'list'>\n",
      "Data type of 'array_list': <class 'numpy.ndarray'>\n"
     ]
    }
   ],
   "source": [
    "list_ = ['1', '2', '3', '4', '5']\n",
    "array_list = np.array(object=list_)\n",
    "\n",
    "print(\"Data type of 'list_':\", type(list_))\n",
    "print(\"Data type of 'array_list':\", type(array_list))"
   ]
  },
  {
   "cell_type": "code",
   "execution_count": 15,
   "id": "ea1541e5-049b-4bec-99f3-5360b20f622e",
   "metadata": {},
   "outputs": [],
   "source": [
    "# Q2. Write a code to print the data type of each and every element of both the variables list_ and\n",
    "# arra_list."
   ]
  },
  {
   "cell_type": "code",
   "execution_count": 18,
   "id": "477d9c65-1463-47ad-8736-d80e4198fb0c",
   "metadata": {},
   "outputs": [
    {
     "name": "stdout",
     "output_type": "stream",
     "text": [
      "Data types in 'list_ :\n",
      "<class 'str'>\n",
      "<class 'str'>\n",
      "<class 'str'>\n",
      "<class 'str'>\n",
      "<class 'str'>\n",
      "\n",
      "Data types in 'array_list :\n",
      "<class 'numpy.str_'>\n",
      "<class 'numpy.str_'>\n",
      "<class 'numpy.str_'>\n",
      "<class 'numpy.str_'>\n",
      "<class 'numpy.str_'>\n"
     ]
    }
   ],
   "source": [
    "list_ = ['1', '2', '3', '4', '5']\n",
    "array_list = np.array(object=list_)\n",
    "\n",
    "print(\"Data types in 'list_ :\")\n",
    "for item in list_:\n",
    "    print(type(item))\n",
    "\n",
    "print(\"\\nData types in 'array_list :\")\n",
    "for item in array_list:\n",
    "    print(type(item))\n"
   ]
  },
  {
   "cell_type": "code",
   "execution_count": 19,
   "id": "8c4a035b-f9e6-41a6-904d-c46606a477fb",
   "metadata": {},
   "outputs": [],
   "source": [
    "# Q3. Considering the following changes in the variable, array_list:\n",
    "# array_list = np.array(object = list_, dtype = int)"
   ]
  },
  {
   "cell_type": "code",
   "execution_count": 21,
   "id": "b1c8d305-fac5-4fef-bb64-b45674b976b7",
   "metadata": {},
   "outputs": [],
   "source": [
    "list_ = ['1', '2', '3', '4', '5']\n",
    "array_list = np.array(object = list_, dtype = int)"
   ]
  },
  {
   "cell_type": "markdown",
   "id": "5f94570d-d7fa-44e4-a699-6bd809be2476",
   "metadata": {},
   "source": [
    "ANS =  By explicitly specifying the dtype=int parameter when creating the NumPy array array_list, the elements will be converted to integers if possible. However, since the elements in the original list_ are strings representing numbers\n"
   ]
  },
  {
   "cell_type": "code",
   "execution_count": 24,
   "id": "fa4947a5-672f-40ca-b4ed-708a18457988",
   "metadata": {},
   "outputs": [
    {
     "name": "stdout",
     "output_type": "stream",
     "text": [
      "Data types in 'list_':\n",
      "<class 'str'>\n",
      "<class 'str'>\n",
      "<class 'str'>\n",
      "<class 'str'>\n",
      "<class 'str'>\n",
      "\n",
      "Data types in 'array_list':\n",
      "<class 'numpy.int64'>\n",
      "<class 'numpy.int64'>\n",
      "<class 'numpy.int64'>\n",
      "<class 'numpy.int64'>\n",
      "<class 'numpy.int64'>\n"
     ]
    }
   ],
   "source": [
    "print(\"Data types in 'list_':\")\n",
    "for element in list_:\n",
    "    print(type(element))\n",
    "print(\"\\nData types in 'array_list':\")\n",
    "for element in array_list:\n",
    "    print(type(element))   "
   ]
  },
  {
   "cell_type": "code",
   "execution_count": 25,
   "id": "6c37d298-070a-4ef9-aeff-f817298349ad",
   "metadata": {},
   "outputs": [],
   "source": [
    "num_list = [ [ 1 , 2 , 3 ] , [ 4 , 5 , 6 ] ]\n",
    "num_array = np.array(object = num_list)"
   ]
  },
  {
   "cell_type": "code",
   "execution_count": 26,
   "id": "f562e0ca-6eb3-498e-b488-47ca9f1d010a",
   "metadata": {},
   "outputs": [],
   "source": [
    "# Q4. Write a code to find the following characteristics of variable, num_array:\n",
    "# (i) shape\n",
    "# (ii) size"
   ]
  },
  {
   "cell_type": "code",
   "execution_count": 27,
   "id": "17adfe7f-1395-4743-9889-66bf90a09387",
   "metadata": {},
   "outputs": [
    {
     "name": "stdout",
     "output_type": "stream",
     "text": [
      "Shape of num_array: (2, 3)\n",
      "Size of num_array: 6\n"
     ]
    }
   ],
   "source": [
    "shape = num_array.shape\n",
    "size = num_array.size\n",
    "\n",
    "print(\"Shape of num_array:\", shape)\n",
    "print(\"Size of num_array:\", size)"
   ]
  },
  {
   "cell_type": "code",
   "execution_count": 28,
   "id": "ba2b8557-a90e-49dd-a725-357775951b43",
   "metadata": {},
   "outputs": [],
   "source": [
    "# Q5. Write a code to create numpy array of 3*3 matrix containing zeros only, using a numpy array\n",
    "# creation function.\n",
    "# [Hint: The size of the array will be 9 and the shape will be (3,3).]"
   ]
  },
  {
   "cell_type": "code",
   "execution_count": 32,
   "id": "3a285aaf-0d40-4709-934d-29b358eaa394",
   "metadata": {},
   "outputs": [],
   "source": [
    "arr=np.zeros((3,3))"
   ]
  },
  {
   "cell_type": "code",
   "execution_count": 33,
   "id": "7880c304-f6c9-4b73-9e17-7bf31e14bda3",
   "metadata": {},
   "outputs": [
    {
     "data": {
      "text/plain": [
       "array([[0., 0., 0.],\n",
       "       [0., 0., 0.],\n",
       "       [0., 0., 0.]])"
      ]
     },
     "execution_count": 33,
     "metadata": {},
     "output_type": "execute_result"
    }
   ],
   "source": [
    "arr"
   ]
  },
  {
   "cell_type": "code",
   "execution_count": 34,
   "id": "d729e460-6edd-4993-a37a-ba83987f49d6",
   "metadata": {},
   "outputs": [
    {
     "data": {
      "text/plain": [
       "9"
      ]
     },
     "execution_count": 34,
     "metadata": {},
     "output_type": "execute_result"
    }
   ],
   "source": [
    "arr.size"
   ]
  },
  {
   "cell_type": "code",
   "execution_count": 35,
   "id": "c94ce400-7263-4efd-af7d-be2969d14eba",
   "metadata": {},
   "outputs": [],
   "source": [
    "data=np.random.randint(0,1,(3,3))"
   ]
  },
  {
   "cell_type": "code",
   "execution_count": 36,
   "id": "45a9d30f-1b63-4bd6-9cb3-5c41434fc828",
   "metadata": {},
   "outputs": [
    {
     "data": {
      "text/plain": [
       "array([[0, 0, 0],\n",
       "       [0, 0, 0],\n",
       "       [0, 0, 0]])"
      ]
     },
     "execution_count": 36,
     "metadata": {},
     "output_type": "execute_result"
    }
   ],
   "source": [
    "data"
   ]
  },
  {
   "cell_type": "code",
   "execution_count": 37,
   "id": "4ce60348-0937-414a-9422-5873657442bf",
   "metadata": {},
   "outputs": [],
   "source": [
    "# Q6. Create an identity matrix of shape (5,5) using numpy functions?\n",
    "# [Hint: An identity matrix is a matrix containing 1 diagonally and other elements will be 0.]"
   ]
  },
  {
   "cell_type": "code",
   "execution_count": 39,
   "id": "2e64865c-910b-4c2a-9005-536882dd9ecb",
   "metadata": {},
   "outputs": [],
   "source": [
    "arr1=np.eye(5,5)"
   ]
  },
  {
   "cell_type": "code",
   "execution_count": 40,
   "id": "7cfe626e-58d2-4da3-8abb-1d471bea487d",
   "metadata": {},
   "outputs": [
    {
     "data": {
      "text/plain": [
       "array([[1., 0., 0., 0., 0.],\n",
       "       [0., 1., 0., 0., 0.],\n",
       "       [0., 0., 1., 0., 0.],\n",
       "       [0., 0., 0., 1., 0.],\n",
       "       [0., 0., 0., 0., 1.]])"
      ]
     },
     "execution_count": 40,
     "metadata": {},
     "output_type": "execute_result"
    }
   ],
   "source": [
    "arr1"
   ]
  },
  {
   "cell_type": "code",
   "execution_count": 41,
   "id": "463c3e2d-a518-49dc-ba89-b89948a5ebe0",
   "metadata": {},
   "outputs": [
    {
     "data": {
      "text/plain": [
       "(5, 5)"
      ]
     },
     "execution_count": 41,
     "metadata": {},
     "output_type": "execute_result"
    }
   ],
   "source": [
    "arr1.shape"
   ]
  },
  {
   "cell_type": "code",
   "execution_count": null,
   "id": "94330093-61e9-42f6-8e6b-4062ef63f00c",
   "metadata": {},
   "outputs": [],
   "source": []
  }
 ],
 "metadata": {
  "kernelspec": {
   "display_name": "Python 3 (ipykernel)",
   "language": "python",
   "name": "python3"
  },
  "language_info": {
   "codemirror_mode": {
    "name": "ipython",
    "version": 3
   },
   "file_extension": ".py",
   "mimetype": "text/x-python",
   "name": "python",
   "nbconvert_exporter": "python",
   "pygments_lexer": "ipython3",
   "version": "3.10.8"
  }
 },
 "nbformat": 4,
 "nbformat_minor": 5
}
